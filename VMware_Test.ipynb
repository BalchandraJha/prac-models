{
 "cells": [
  {
   "cell_type": "code",
   "execution_count": 1,
   "metadata": {},
   "outputs": [],
   "source": [
    "import numpy as np\n",
    "import pandas as pd\n",
    "import matplotlib.pyplot as plt\n",
    "%matplotlib inline\n",
    "import os\n",
    "os.chdir('D:/vmware')"
   ]
  },
  {
   "cell_type": "code",
   "execution_count": 2,
   "metadata": {},
   "outputs": [],
   "source": [
    "dataset = pd.read_csv('enron_cleaned_sent_emails.csv')"
   ]
  },
  {
   "cell_type": "code",
   "execution_count": 3,
   "metadata": {},
   "outputs": [
    {
     "data": {
      "text/html": [
       "<div>\n",
       "<style scoped>\n",
       "    .dataframe tbody tr th:only-of-type {\n",
       "        vertical-align: middle;\n",
       "    }\n",
       "\n",
       "    .dataframe tbody tr th {\n",
       "        vertical-align: top;\n",
       "    }\n",
       "\n",
       "    .dataframe thead th {\n",
       "        text-align: right;\n",
       "    }\n",
       "</style>\n",
       "<table border=\"1\" class=\"dataframe\">\n",
       "  <thead>\n",
       "    <tr style=\"text-align: right;\">\n",
       "      <th></th>\n",
       "      <th>file</th>\n",
       "      <th>body</th>\n",
       "    </tr>\n",
       "  </thead>\n",
       "  <tbody>\n",
       "    <tr>\n",
       "      <th>0</th>\n",
       "      <td>allen-p/_sent_mail/1.</td>\n",
       "      <td>Here is our forecast\\n\\n</td>\n",
       "    </tr>\n",
       "    <tr>\n",
       "      <th>1</th>\n",
       "      <td>allen-p/_sent_mail/10.</td>\n",
       "      <td>Traveling to have a business meeting takes the...</td>\n",
       "    </tr>\n",
       "    <tr>\n",
       "      <th>2</th>\n",
       "      <td>allen-p/_sent_mail/100.</td>\n",
       "      <td>test successful.  way to go!!!</td>\n",
       "    </tr>\n",
       "    <tr>\n",
       "      <th>3</th>\n",
       "      <td>allen-p/_sent_mail/1000.</td>\n",
       "      <td>Randy,\\n\\n Can you send me a schedule of the s...</td>\n",
       "    </tr>\n",
       "    <tr>\n",
       "      <th>4</th>\n",
       "      <td>allen-p/_sent_mail/1001.</td>\n",
       "      <td>Let's shoot for Tuesday at 11:45.</td>\n",
       "    </tr>\n",
       "    <tr>\n",
       "      <th>5</th>\n",
       "      <td>allen-p/_sent_mail/1002.</td>\n",
       "      <td>Greg,\\n\\n How about either next Tuesday or Thu...</td>\n",
       "    </tr>\n",
       "    <tr>\n",
       "      <th>6</th>\n",
       "      <td>allen-p/_sent_mail/1003.</td>\n",
       "      <td>Please cc the following distribution list with...</td>\n",
       "    </tr>\n",
       "    <tr>\n",
       "      <th>7</th>\n",
       "      <td>allen-p/_sent_mail/1004.</td>\n",
       "      <td>any morning between 10 and 11:30</td>\n",
       "    </tr>\n",
       "    <tr>\n",
       "      <th>8</th>\n",
       "      <td>allen-p/_sent_mail/101.</td>\n",
       "      <td>1. login:  pallen pw: ke9davis\\n\\n I don't thi...</td>\n",
       "    </tr>\n",
       "    <tr>\n",
       "      <th>9</th>\n",
       "      <td>allen-p/_sent_mail/102.</td>\n",
       "      <td>---------------------- Forwarded by Phillip K ...</td>\n",
       "    </tr>\n",
       "  </tbody>\n",
       "</table>\n",
       "</div>"
      ],
      "text/plain": [
       "                       file                                               body\n",
       "0     allen-p/_sent_mail/1.                          Here is our forecast\\n\\n \n",
       "1    allen-p/_sent_mail/10.  Traveling to have a business meeting takes the...\n",
       "2   allen-p/_sent_mail/100.                     test successful.  way to go!!!\n",
       "3  allen-p/_sent_mail/1000.  Randy,\\n\\n Can you send me a schedule of the s...\n",
       "4  allen-p/_sent_mail/1001.                Let's shoot for Tuesday at 11:45.  \n",
       "5  allen-p/_sent_mail/1002.  Greg,\\n\\n How about either next Tuesday or Thu...\n",
       "6  allen-p/_sent_mail/1003.  Please cc the following distribution list with...\n",
       "7  allen-p/_sent_mail/1004.                   any morning between 10 and 11:30\n",
       "8   allen-p/_sent_mail/101.  1. login:  pallen pw: ke9davis\\n\\n I don't thi...\n",
       "9   allen-p/_sent_mail/102.  ---------------------- Forwarded by Phillip K ..."
      ]
     },
     "execution_count": 3,
     "metadata": {},
     "output_type": "execute_result"
    }
   ],
   "source": [
    "dataset.head(10)"
   ]
  },
  {
   "cell_type": "code",
   "execution_count": 4,
   "metadata": {},
   "outputs": [],
   "source": [
    "df = dataset[\"file\"].str.split(\"/\", n = 2, expand = True)\n",
    "dataset[\"Name\"]= df[0]\n",
    "dataset['mail_status'] = df[1]\n",
    "dataset['file_no'] = df[2]"
   ]
  },
  {
   "cell_type": "code",
   "execution_count": 5,
   "metadata": {},
   "outputs": [
    {
     "data": {
      "text/html": [
       "<div>\n",
       "<style scoped>\n",
       "    .dataframe tbody tr th:only-of-type {\n",
       "        vertical-align: middle;\n",
       "    }\n",
       "\n",
       "    .dataframe tbody tr th {\n",
       "        vertical-align: top;\n",
       "    }\n",
       "\n",
       "    .dataframe thead th {\n",
       "        text-align: right;\n",
       "    }\n",
       "</style>\n",
       "<table border=\"1\" class=\"dataframe\">\n",
       "  <thead>\n",
       "    <tr style=\"text-align: right;\">\n",
       "      <th></th>\n",
       "      <th>file</th>\n",
       "      <th>body</th>\n",
       "      <th>Name</th>\n",
       "      <th>mail_status</th>\n",
       "      <th>file_no</th>\n",
       "    </tr>\n",
       "  </thead>\n",
       "  <tbody>\n",
       "    <tr>\n",
       "      <th>0</th>\n",
       "      <td>allen-p/_sent_mail/1.</td>\n",
       "      <td>Here is our forecast\\n\\n</td>\n",
       "      <td>allen-p</td>\n",
       "      <td>_sent_mail</td>\n",
       "      <td>1.</td>\n",
       "    </tr>\n",
       "    <tr>\n",
       "      <th>1</th>\n",
       "      <td>allen-p/_sent_mail/10.</td>\n",
       "      <td>Traveling to have a business meeting takes the...</td>\n",
       "      <td>allen-p</td>\n",
       "      <td>_sent_mail</td>\n",
       "      <td>10.</td>\n",
       "    </tr>\n",
       "    <tr>\n",
       "      <th>2</th>\n",
       "      <td>allen-p/_sent_mail/100.</td>\n",
       "      <td>test successful.  way to go!!!</td>\n",
       "      <td>allen-p</td>\n",
       "      <td>_sent_mail</td>\n",
       "      <td>100.</td>\n",
       "    </tr>\n",
       "    <tr>\n",
       "      <th>3</th>\n",
       "      <td>allen-p/_sent_mail/1000.</td>\n",
       "      <td>Randy,\\n\\n Can you send me a schedule of the s...</td>\n",
       "      <td>allen-p</td>\n",
       "      <td>_sent_mail</td>\n",
       "      <td>1000.</td>\n",
       "    </tr>\n",
       "    <tr>\n",
       "      <th>4</th>\n",
       "      <td>allen-p/_sent_mail/1001.</td>\n",
       "      <td>Let's shoot for Tuesday at 11:45.</td>\n",
       "      <td>allen-p</td>\n",
       "      <td>_sent_mail</td>\n",
       "      <td>1001.</td>\n",
       "    </tr>\n",
       "  </tbody>\n",
       "</table>\n",
       "</div>"
      ],
      "text/plain": [
       "                       file  \\\n",
       "0     allen-p/_sent_mail/1.   \n",
       "1    allen-p/_sent_mail/10.   \n",
       "2   allen-p/_sent_mail/100.   \n",
       "3  allen-p/_sent_mail/1000.   \n",
       "4  allen-p/_sent_mail/1001.   \n",
       "\n",
       "                                                body     Name mail_status  \\\n",
       "0                          Here is our forecast\\n\\n   allen-p  _sent_mail   \n",
       "1  Traveling to have a business meeting takes the...  allen-p  _sent_mail   \n",
       "2                     test successful.  way to go!!!  allen-p  _sent_mail   \n",
       "3  Randy,\\n\\n Can you send me a schedule of the s...  allen-p  _sent_mail   \n",
       "4                Let's shoot for Tuesday at 11:45.    allen-p  _sent_mail   \n",
       "\n",
       "  file_no  \n",
       "0      1.  \n",
       "1     10.  \n",
       "2    100.  \n",
       "3   1000.  \n",
       "4   1001.  "
      ]
     },
     "execution_count": 5,
     "metadata": {},
     "output_type": "execute_result"
    }
   ],
   "source": [
    "dataset.head(5)"
   ]
  },
  {
   "cell_type": "code",
   "execution_count": 6,
   "metadata": {},
   "outputs": [
    {
     "data": {
      "text/plain": [
       "mann-k            8926\n",
       "kaminski-v        8644\n",
       "dasovich-j        5366\n",
       "germany-c         5128\n",
       "shackleton-s      4407\n",
       "jones-t           4123\n",
       "bass-e            3030\n",
       "lenhart-m         2759\n",
       "beck-s            2674\n",
       "symes-k           2649\n",
       "scott-s           2602\n",
       "taylor-m          2409\n",
       "love-p            2371\n",
       "arnold-j          2353\n",
       "perlingiere-d     2352\n",
       "nemec-g           2175\n",
       "fossum-d          2067\n",
       "sanders-r         2035\n",
       "giron-d           1880\n",
       "lavorato-j        1868\n",
       "kean-s            1834\n",
       "rogers-b          1822\n",
       "delainey-d        1814\n",
       "mcconnell-m       1756\n",
       "farmer-d          1715\n",
       "allen-p           1509\n",
       "sager-e           1476\n",
       "rodrique-r        1442\n",
       "steffes-j         1379\n",
       "stclair-c         1328\n",
       "                  ... \n",
       "wolfe-j             93\n",
       "gang-l              90\n",
       "townsend-j          82\n",
       "arora-h             78\n",
       "pimenov-v           78\n",
       "stepenovitch-j      76\n",
       "swerzbin-m          73\n",
       "solberg-g           60\n",
       "badeer-r            59\n",
       "reitmeyer-j         57\n",
       "donohoe-t           52\n",
       "ring-r              51\n",
       "slinger-r           48\n",
       "dean-c              44\n",
       "south-s             42\n",
       "griffith-j          40\n",
       "saibi-e             39\n",
       "holst-k             36\n",
       "ermis-f             34\n",
       "benson-r            32\n",
       "panus-s             26\n",
       "king-j              19\n",
       "gilbertsmith-d      15\n",
       "bailey-s            14\n",
       "shapiro-r           13\n",
       "motley-m            13\n",
       "meyers-a            11\n",
       "linder-e             6\n",
       "phanis-s             4\n",
       "merriss-s            3\n",
       "Name: Name, Length: 149, dtype: int64"
      ]
     },
     "execution_count": 6,
     "metadata": {},
     "output_type": "execute_result"
    }
   ],
   "source": [
    "dataset['Name'].value_counts()"
   ]
  },
  {
   "cell_type": "code",
   "execution_count": 7,
   "metadata": {},
   "outputs": [
    {
     "data": {
      "text/plain": [
       "<matplotlib.axes._subplots.AxesSubplot at 0xec837d0>"
      ]
     },
     "execution_count": 7,
     "metadata": {},
     "output_type": "execute_result"
    },
    {
     "data": {
      "image/png": "[encoded data removed]",
      "text/plain": [
       "<matplotlib.figure.Figure at 0x661dbd0>"
      ]
     },
     "metadata": {},
     "output_type": "display_data"
    }
   ],
   "source": [
    "temp = dataset['Name'].value_counts()\n",
    "temp.head(10).plot(kind='bar')"
   ]
  },
  {
   "cell_type": "code",
   "execution_count": 9,
   "metadata": {},
   "outputs": [],
   "source": [
    "import nltk\n",
    "from sklearn.feature_extraction.text import CountVectorizer\n",
    "from nltk.tokenize import RegexpTokenizer\n",
    "from sklearn.feature_extraction.text import TfidfTransformer\n",
    "#tokenizer to remove unwanted elements from out data like symbols and numbers\n",
    "token = RegexpTokenizer(r'[a-zA-Z0-9]+')\n",
    "cv = CountVectorizer(lowercase=True,stop_words='english',ngram_range = (1,1),tokenizer = token.tokenize)\n",
    "text_counts= cv.fit_transform(dataset['body'])\n",
    "tfidf_transformer = TfidfTransformer()\n",
    "X_train_tfidf = tfidf_transformer.fit_transform(text_counts)"
   ]
  },
  {
   "cell_type": "code",
   "execution_count": 10,
   "metadata": {},
   "outputs": [],
   "source": [
    "from sklearn.model_selection import train_test_split\n",
    "X_train, X_test, y_train, y_test = train_test_split(\n",
    "    X_train_tfidf, dataset['Name'], test_size=0.3, random_state=0)"
   ]
  },
  {
   "cell_type": "code",
   "execution_count": null,
   "metadata": {},
   "outputs": [],
   "source": [
    "from sklearn.naive_bayes import MultinomialNB\n",
    "#Import scikit-learn metrics module for accuracy calculation\n",
    "from sklearn import metrics\n",
    "# Model Generation Using Multinomial Naive Bayes\n",
    "clf = MultinomialNB().fit(X_train, y_train)\n",
    "predicted= clf.predict(X_test)\n",
    "print(\"MultinomialNB Accuracy:\",metrics.accuracy_score(y_test, predicted))"
   ]
  },
  {
   "cell_type": "code",
   "execution_count": null,
   "metadata": {},
   "outputs": [],
   "source": [
    "from sklearn import model_selection, svm\n",
    "SVM = svm.SVC(C=1.0, kernel='linear', degree=3, gamma='auto')\n",
    "clf1 = SVM.fit(X_train, y_train)\n",
    "predicted= clf1.predict(X_test)\n",
    "print(\"MultinomialNB Accuracy:\",metrics.accuracy_score(y_test, predicted))"
   ]
  },
  {
   "cell_type": "code",
   "execution_count": null,
   "metadata": {},
   "outputs": [],
   "source": []
  }
 ],
 "metadata": {
  "kernelspec": {
   "display_name": "Python 3",
   "language": "python",
   "name": "python3"
  },
  "language_info": {
   "codemirror_mode": {
    "name": "ipython",
    "version": 3
   },
   "file_extension": ".py",
   "mimetype": "text/x-python",
   "name": "python",
   "nbconvert_exporter": "python",
   "pygments_lexer": "ipython3",
   "version": "3.6.4"
  }
 },
 "nbformat": 4,
 "nbformat_minor": 2
}
